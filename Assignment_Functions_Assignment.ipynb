{
  "nbformat": 4,
  "nbformat_minor": 0,
  "metadata": {
    "colab": {
      "provenance": [],
      "toc_visible": true
    },
    "kernelspec": {
      "name": "python3",
      "display_name": "Python 3"
    },
    "language_info": {
      "name": "python"
    }
  },
  "cells": [
    {
      "cell_type": "markdown",
      "source": [
        "#Theory Questions"
      ],
      "metadata": {
        "id": "-_xeSF2VIRZ9"
      }
    },
    {
      "cell_type": "markdown",
      "source": [
        "### What is the difference between a function and a method in Python?"
      ],
      "metadata": {
        "id": "S9SLFw_9HjX_"
      }
    },
    {
      "cell_type": "markdown",
      "source": [
        "Function: A block of reusable code that operates independently and is not tied to any specific object. It is defined using def and can be called directly.\n",
        "    \n",
        "Method: A function that is associated with an object or class. It is called on an instance of a class and can access the instance's data."
      ],
      "metadata": {
        "id": "0amL_aaLIqk_"
      }
    },
    {
      "cell_type": "markdown",
      "source": [
        "### Explain the concept of function arguments and parameters in Python.\n"
      ],
      "metadata": {
        "id": "ZS8P3b6WH7Hj"
      }
    },
    {
      "cell_type": "markdown",
      "source": [
        "Parameters: These are the variables listed in a function's definition to accept values. They act as placeholders.  \n",
        "  \n",
        "Arguments: These are the actual values passed to a function when it is called."
      ],
      "metadata": {
        "id": "44afJi4XI0r4"
      }
    },
    {
      "cell_type": "markdown",
      "source": [
        "### What are the different ways to define and call a function in Python?"
      ],
      "metadata": {
        "id": "F6r9Wcc6H86S"
      }
    },
    {
      "cell_type": "code",
      "source": [
        "def greet(name):\n",
        "    return f\"Hello, {name}!\"\n",
        "\n",
        "print(greet(\"Alice\"))"
      ],
      "metadata": {
        "colab": {
          "base_uri": "https://localhost:8080/"
        },
        "id": "rrOdXDtIH-ia",
        "outputId": "b952a207-364b-4385-8fcd-cfa77eb8d7bd"
      },
      "execution_count": null,
      "outputs": [
        {
          "output_type": "stream",
          "name": "stdout",
          "text": [
            "Hello, Alice!\n"
          ]
        }
      ]
    },
    {
      "cell_type": "code",
      "source": [
        "def greet(name=\"Guest\"):\n",
        "    return f\"Hello, {name}!\"\n",
        "\n",
        "print(greet())        # Uses default value\n",
        "print(greet(\"Alice\")) # Uses provided value"
      ],
      "metadata": {
        "colab": {
          "base_uri": "https://localhost:8080/"
        },
        "id": "KTMmEDK8JbL8",
        "outputId": "4689ef0c-752a-4360-89a5-d08b6ae44027"
      },
      "execution_count": null,
      "outputs": [
        {
          "output_type": "stream",
          "name": "stdout",
          "text": [
            "Hello, Guest!\n",
            "Hello, Alice!\n"
          ]
        }
      ]
    },
    {
      "cell_type": "code",
      "source": [
        "def add_numbers(*args):\n",
        "    return sum(args)\n",
        "\n",
        "print(add_numbers(1, 2, 3, 4))  # Any number of arguments"
      ],
      "metadata": {
        "colab": {
          "base_uri": "https://localhost:8080/"
        },
        "id": "QOuRRH8PJkRF",
        "outputId": "e9870bd4-8e4e-4042-f74d-95f6ca594585"
      },
      "execution_count": null,
      "outputs": [
        {
          "output_type": "stream",
          "name": "stdout",
          "text": [
            "10\n"
          ]
        }
      ]
    },
    {
      "cell_type": "markdown",
      "source": [
        "### What is the purpose of the return statement in a Python function?"
      ],
      "metadata": {
        "id": "Hh_1gLj2H-v6"
      }
    },
    {
      "cell_type": "markdown",
      "source": [
        "If return is not used, the function returns None by default. It specifies the result of the function."
      ],
      "metadata": {
        "id": "8m4KZDx5J05e"
      }
    },
    {
      "cell_type": "code",
      "source": [
        "def add(a, b):\n",
        "    result = a + b\n",
        "    return result\n",
        "\n",
        "sum_result = add(5, 3)\n",
        "print(sum_result)"
      ],
      "metadata": {
        "colab": {
          "base_uri": "https://localhost:8080/"
        },
        "id": "X9WGgb49MySK",
        "outputId": "a337ee0c-dd9c-46c4-8d03-97dea08c479a"
      },
      "execution_count": null,
      "outputs": [
        {
          "output_type": "stream",
          "name": "stdout",
          "text": [
            "8\n"
          ]
        }
      ]
    },
    {
      "cell_type": "markdown",
      "source": [
        "### What are iterators in Python and how do they differ from iterables?"
      ],
      "metadata": {
        "id": "eeFbUMxeIAq6"
      }
    },
    {
      "cell_type": "markdown",
      "source": [
        "An object that can be looped over (e.g., lists, strings, tuples).  \n",
        "It must implement the __iter__() method, which returns an iterator.  \n",
        "\n",
        "An object that produces one value at a time using the __next__() method.  \n",
        "It is created by calling iter() on an iterable."
      ],
      "metadata": {
        "id": "atkDd0NrKIBJ"
      }
    },
    {
      "cell_type": "code",
      "source": [
        "my_list = [1, 2, 3]  # List is an iterable\n",
        "for item in my_list:\n",
        "    print(item)"
      ],
      "metadata": {
        "colab": {
          "base_uri": "https://localhost:8080/"
        },
        "id": "vHL0BRE3KTWS",
        "outputId": "0e7bee86-9e7d-48cf-8793-5c913f1701e4"
      },
      "execution_count": null,
      "outputs": [
        {
          "output_type": "stream",
          "name": "stdout",
          "text": [
            "1\n",
            "2\n",
            "3\n"
          ]
        }
      ]
    },
    {
      "cell_type": "markdown",
      "source": [
        "### Explain the concept of generators in Python and how they are defined."
      ],
      "metadata": {
        "id": "nPsSoFRGICmy"
      }
    },
    {
      "cell_type": "code",
      "source": [
        "my_list = [1, 2, 3]\n",
        "iterator = iter(my_list)  # Creating an iterator\n",
        "print(next(iterator))  # Outputs: 1\n",
        "print(next(iterator))  # Outputs: 2"
      ],
      "metadata": {
        "colab": {
          "base_uri": "https://localhost:8080/"
        },
        "id": "_wsMmM2nIFyb",
        "outputId": "70424294-80a7-484b-fd27-7d3eac596e42"
      },
      "execution_count": null,
      "outputs": [
        {
          "output_type": "stream",
          "name": "stdout",
          "text": [
            "1\n",
            "2\n"
          ]
        }
      ]
    },
    {
      "cell_type": "markdown",
      "source": [
        "### What are the advantages of using generators over regular functions?"
      ],
      "metadata": {
        "id": "2QrRupJ7IE2r"
      }
    },
    {
      "cell_type": "markdown",
      "source": [
        "Generators are memory-efficient as they produce items one at a time using `yield`, avoiding storing all values at once. They use lazy evaluation, computing values only when needed. Generators are simpler to implement than regular iterators and can handle infinite sequences easily. They are ideal for processing large datasets or streams."
      ],
      "metadata": {
        "id": "IaTP3y0xKkQ7"
      }
    },
    {
      "cell_type": "code",
      "source": [
        "my_list = [1, 2, 3]\n",
        "iterator = iter(my_list)\n",
        "print(next(iterator))\n",
        "print(next(iterator))"
      ],
      "metadata": {
        "colab": {
          "base_uri": "https://localhost:8080/"
        },
        "id": "6L7uq5j4LSUA",
        "outputId": "7a7f0f52-1730-491d-d6c0-a9c797bbc61d"
      },
      "execution_count": null,
      "outputs": [
        {
          "output_type": "stream",
          "name": "stdout",
          "text": [
            "1\n",
            "2\n"
          ]
        }
      ]
    },
    {
      "cell_type": "markdown",
      "source": [
        "### What is a lambda function in Python and when is it typically used?"
      ],
      "metadata": {
        "id": "3dL1iOMUIIDD"
      }
    },
    {
      "cell_type": "markdown",
      "source": [
        "A lambda function in Python is a small, anonymous function defined using the lambda keyword. It can have multiple arguments but only one expression, which is implicitly returned."
      ],
      "metadata": {
        "id": "ohebPrXDKrFc"
      }
    },
    {
      "cell_type": "code",
      "source": [
        "square = lambda x: x ** 2\n",
        "print(square(5))"
      ],
      "metadata": {
        "colab": {
          "base_uri": "https://localhost:8080/"
        },
        "id": "aZf1kyViKqwU",
        "outputId": "2d7a0062-9d07-40c4-d321-fce6a2272ab9"
      },
      "execution_count": null,
      "outputs": [
        {
          "output_type": "stream",
          "name": "stdout",
          "text": [
            "25\n"
          ]
        }
      ]
    },
    {
      "cell_type": "markdown",
      "source": [
        "### Explain the purpose and usage of the map() function in Python."
      ],
      "metadata": {
        "id": "9-s-VnXtIKdD"
      }
    },
    {
      "cell_type": "markdown",
      "source": [
        "The map() function in Python applies a given function to each item in an iterable (like a list or tuple) and returns a map object (an iterator)."
      ],
      "metadata": {
        "id": "q8Pnyia4K27W"
      }
    },
    {
      "cell_type": "code",
      "source": [
        "nums = [1, 2, 3, 4]\n",
        "squares = map(lambda x: x**2, nums)\n",
        "print(list(squares))"
      ],
      "metadata": {
        "colab": {
          "base_uri": "https://localhost:8080/"
        },
        "id": "L2EzPQ2NIMk7",
        "outputId": "60ca18b1-b737-4956-8c03-06576cc22c7f"
      },
      "execution_count": null,
      "outputs": [
        {
          "output_type": "stream",
          "name": "stdout",
          "text": [
            "[1, 4, 9, 16]\n"
          ]
        }
      ]
    },
    {
      "cell_type": "markdown",
      "source": [
        "### What is the difference between map(), reduce(), and filter() functions in Python?"
      ],
      "metadata": {
        "id": "J0_fTosXIMx7"
      }
    },
    {
      "cell_type": "markdown",
      "source": [
        "map(): Transforms each element.\n",
        "reduce(): Reduces the iterable to a single value.\n",
        "filter(): Filters elements based on a condition."
      ],
      "metadata": {
        "id": "akZedkAvLjkC"
      }
    },
    {
      "cell_type": "code",
      "source": [
        "nums = [1, 2, 3]\n",
        "result = map(lambda x: x ** 2, nums)\n",
        "print(list(result))"
      ],
      "metadata": {
        "colab": {
          "base_uri": "https://localhost:8080/"
        },
        "id": "WyJlaotfIOe8",
        "outputId": "ec1a818b-8ea0-40b4-d8ca-c34378c0d7f6"
      },
      "execution_count": null,
      "outputs": [
        {
          "output_type": "stream",
          "name": "stdout",
          "text": [
            "[1, 4, 9]\n"
          ]
        }
      ]
    },
    {
      "cell_type": "markdown",
      "source": [
        "### Using pen & paper, write the internal mechanism for the sum operation using the reduce() function on the given list: [47, 11, 42, 13]."
      ],
      "metadata": {
        "id": "6cMyWxLrIOyc"
      }
    },
    {
      "cell_type": "code",
      "source": [
        "from functools import reduce\n",
        "\n",
        "# List of numbers\n",
        "numbers = [47, 11, 42, 13]\n",
        "\n",
        "# Define the sum operation using lambda\n",
        "result = reduce(lambda x, y: x + y, numbers)\n",
        "\n",
        "# Output the result\n",
        "print(\"The result of the sum operation is:\", result)"
      ],
      "metadata": {
        "colab": {
          "base_uri": "https://localhost:8080/"
        },
        "id": "HY2fJer-L4Y8",
        "outputId": "0f249429-d9d5-42a3-d805-46812d2df6ad"
      },
      "execution_count": null,
      "outputs": [
        {
          "output_type": "stream",
          "name": "stdout",
          "text": [
            "The result of the sum operation is: 113\n"
          ]
        }
      ]
    },
    {
      "cell_type": "markdown",
      "source": [
        "Internal Mechanism of the reduce() Function for Sum Operation\n",
        "Given the list [47, 11, 42, 13], the reduce() function applies the sum operation step by step. Here's how it works:\n",
        "\n",
        "Initial List:\n",
        "[47, 11, 42, 13]\n",
        "\n",
        "First Iteration:\n",
        "The first two elements, 47 and 11, are passed to the function:\n",
        "\n",
        "47 + 11 = 58\n",
        "The result 58 is now used as the accumulator for the next iteration.\n",
        "\n",
        "Second Iteration:\n",
        "The accumulator 58 is combined with the next element 42:\n",
        "\n",
        "58 + 42 = 100\n",
        "The result 100 is now used for the next iteration.\n",
        "\n",
        "Third Iteration:\n",
        "The accumulator 100 is combined with the final element 13:\n",
        "\n",
        "100 + 13 = 113\n",
        "This is the final result.\n",
        "\n",
        "Final Result:\n",
        "After all iterations, the result is 113."
      ],
      "metadata": {
        "id": "w5ziHbClMC8l"
      }
    },
    {
      "cell_type": "markdown",
      "source": [
        "#Practical Questions"
      ],
      "metadata": {
        "id": "pv9Jisd1MWhg"
      }
    },
    {
      "cell_type": "markdown",
      "source": [
        "Here is the rewritten list of programming tasks:\n",
        "\n",
        "1. Write a Python function that takes a list of numbers as input and returns the sum of all even numbers in the list.\n"
      ],
      "metadata": {
        "id": "48MddE6tNqaQ"
      }
    },
    {
      "cell_type": "code",
      "source": [
        "def sum_of_evens(numbers):\n",
        "    return sum(x for x in numbers if x % 2 == 0)\n",
        "\n",
        "sum_of_evens([1, 2, 3, 4, 5, 6])"
      ],
      "metadata": {
        "id": "qYv62IDHMa7Y",
        "colab": {
          "base_uri": "https://localhost:8080/"
        },
        "outputId": "849624c4-426e-42b5-c6bb-265a17ec5d37"
      },
      "execution_count": null,
      "outputs": [
        {
          "output_type": "execute_result",
          "data": {
            "text/plain": [
              "12"
            ]
          },
          "metadata": {},
          "execution_count": 16
        }
      ]
    },
    {
      "cell_type": "markdown",
      "source": [
        "2. Create a Python function that accepts a string and returns the reverse of that string."
      ],
      "metadata": {
        "id": "yGWMuhVWOKkj"
      }
    },
    {
      "cell_type": "code",
      "source": [
        "def reverse_string(s):\n",
        "    return s[::-1]\n",
        "reverse_string(\"hello\")"
      ],
      "metadata": {
        "colab": {
          "base_uri": "https://localhost:8080/",
          "height": 35
        },
        "id": "ATafJLwON02p",
        "outputId": "4aabf74d-90c3-475a-b493-4e4b35afbeb4"
      },
      "execution_count": null,
      "outputs": [
        {
          "output_type": "execute_result",
          "data": {
            "text/plain": [
              "'olleh'"
            ],
            "application/vnd.google.colaboratory.intrinsic+json": {
              "type": "string"
            }
          },
          "metadata": {},
          "execution_count": 17
        }
      ]
    },
    {
      "cell_type": "markdown",
      "source": [
        "3. Implement a Python function that takes a list of integers and returns a new list containing the squares of each number.\n"
      ],
      "metadata": {
        "id": "eIuUrSbkN3RZ"
      }
    },
    {
      "cell_type": "code",
      "source": [
        "def square_numbers(numbers):\n",
        "    return [x ** 2 for x in numbers]\n",
        "\n",
        "square_numbers([1, 2, 3, 4, 5])"
      ],
      "metadata": {
        "colab": {
          "base_uri": "https://localhost:8080/"
        },
        "id": "VtVo6AY7N5fJ",
        "outputId": "ba326def-7412-49b8-b6c2-4c6497eb3425"
      },
      "execution_count": null,
      "outputs": [
        {
          "output_type": "execute_result",
          "data": {
            "text/plain": [
              "[1, 4, 9, 16, 25]"
            ]
          },
          "metadata": {},
          "execution_count": 19
        }
      ]
    },
    {
      "cell_type": "markdown",
      "source": [
        "4. Write a Python function that checks if a given number is prime or not from 1 to 200."
      ],
      "metadata": {
        "id": "Y7-sy3AcN5Ip"
      }
    },
    {
      "cell_type": "code",
      "source": [
        "def is_prime(n):\n",
        "    if n < 2:\n",
        "        return False\n",
        "    for i in range(2, int(n ** 0.5) + 1):\n",
        "        if n % i == 0:\n",
        "            return False\n",
        "    return True\n",
        "\n",
        "primes = [n for n in range(1, 201) if is_prime(n)]\n",
        "\n",
        "is_prime(17)"
      ],
      "metadata": {
        "colab": {
          "base_uri": "https://localhost:8080/"
        },
        "id": "P9Kb-P8vN77D",
        "outputId": "56f89bdb-a909-4cf9-e489-1f0822ac618b"
      },
      "execution_count": null,
      "outputs": [
        {
          "output_type": "execute_result",
          "data": {
            "text/plain": [
              "True"
            ]
          },
          "metadata": {},
          "execution_count": 21
        }
      ]
    },
    {
      "cell_type": "markdown",
      "source": [
        "5. Create an iterator class in Python that generates the Fibonacci sequence up to a specified number of terms."
      ],
      "metadata": {
        "id": "7N2JDj6NN8JZ"
      }
    },
    {
      "cell_type": "code",
      "source": [
        "class FibonacciIterator:\n",
        "    def __init__(self, terms):\n",
        "        self.terms = terms\n",
        "        self.a, self.b = 0, 1\n",
        "        self.count = 0\n",
        "\n",
        "    def __iter__(self):\n",
        "        return self\n",
        "\n",
        "    def __next__(self):\n",
        "        if self.count < self.terms:\n",
        "            result = self.a\n",
        "            self.a, self.b = self.b, self.a + self.b\n",
        "            self.count += 1\n",
        "            return result\n",
        "        else:\n",
        "            raise StopIteration\n",
        "\n",
        "\n",
        "fib = FibonacciIterator(10)\n",
        "for num in fib:\n",
        "    print(num)"
      ],
      "metadata": {
        "colab": {
          "base_uri": "https://localhost:8080/"
        },
        "id": "cHi7HBKaN-OS",
        "outputId": "570a0585-2c85-459b-87dc-0e2f4a4c1d11"
      },
      "execution_count": null,
      "outputs": [
        {
          "output_type": "stream",
          "name": "stdout",
          "text": [
            "0\n",
            "1\n",
            "1\n",
            "2\n",
            "3\n",
            "5\n",
            "8\n",
            "13\n",
            "21\n",
            "34\n"
          ]
        }
      ]
    },
    {
      "cell_type": "markdown",
      "source": [
        "6. Write a generator function in Python that yields the powers of 2 up to a given exponent."
      ],
      "metadata": {
        "id": "CvlVL2baN-jK"
      }
    },
    {
      "cell_type": "code",
      "source": [
        "def powers_of_two(exponent):\n",
        "    for i in range(exponent + 1):\n",
        "        yield 2 ** i\n",
        "\n",
        "# Example usage:\n",
        "for power in powers_of_two(5):\n",
        "    print(power)"
      ],
      "metadata": {
        "colab": {
          "base_uri": "https://localhost:8080/"
        },
        "id": "S7T-bA8SOAP6",
        "outputId": "18f925a6-b837-4282-ea50-23ff707d285e"
      },
      "execution_count": null,
      "outputs": [
        {
          "output_type": "stream",
          "name": "stdout",
          "text": [
            "1\n",
            "2\n",
            "4\n",
            "8\n",
            "16\n",
            "32\n"
          ]
        }
      ]
    },
    {
      "cell_type": "markdown",
      "source": [
        "7. Implement a generator function that reads a file line by line and yields each line as a string."
      ],
      "metadata": {
        "id": "DgW88CWfOAby"
      }
    },
    {
      "cell_type": "code",
      "source": [
        "def read_file_line_by_line(file_path):\n",
        "    with open(file_path, 'r') as file:\n",
        "        for line in file:\n",
        "            yield line.strip()\n",
        "\n",
        "# Example usage:\n",
        "# for line in read_file_line_by_line('example.txt'):\n",
        "#     print(line)"
      ],
      "metadata": {
        "id": "hkkFD6gqOCEK"
      },
      "execution_count": null,
      "outputs": []
    },
    {
      "cell_type": "markdown",
      "source": [
        "8. Use a lambda function in Python to sort a list of tuples based on the second element of each tuple."
      ],
      "metadata": {
        "id": "Vg3d7O-8OCQ7"
      }
    },
    {
      "cell_type": "code",
      "source": [
        "tuples = [(1, 3), (2, 2), (3, 1), (4, 4)]\n",
        "\n",
        "sorted_tuples = sorted(tuples, key=lambda x: x[1])\n",
        "\n",
        "print(sorted_tuples)"
      ],
      "metadata": {
        "colab": {
          "base_uri": "https://localhost:8080/"
        },
        "id": "cAdlmxmYOEEi",
        "outputId": "6381649f-655e-4ef6-e733-92ff75f74724"
      },
      "execution_count": null,
      "outputs": [
        {
          "output_type": "stream",
          "name": "stdout",
          "text": [
            "[(3, 1), (2, 2), (1, 3), (4, 4)]\n"
          ]
        }
      ]
    },
    {
      "cell_type": "markdown",
      "source": [
        "9. Write a Python program that uses `map()` to convert a list of temperatures from Celsius to Fahrenheit."
      ],
      "metadata": {
        "id": "N2-s3QLDOEOi"
      }
    },
    {
      "cell_type": "code",
      "source": [
        "celsius_temperatures = [0, 20, 37, 100]\n",
        "\n",
        "fahrenheit_temperatures = list(map(lambda c: (c * 9/5) + 32, celsius_temperatures))\n",
        "\n",
        "print(fahrenheit_temperatures)"
      ],
      "metadata": {
        "colab": {
          "base_uri": "https://localhost:8080/"
        },
        "id": "4YhjeuC6OGzr",
        "outputId": "2339e7d8-ea4a-41ac-fa46-7e3e78453bcd"
      },
      "execution_count": null,
      "outputs": [
        {
          "output_type": "stream",
          "name": "stdout",
          "text": [
            "[32.0, 68.0, 98.6, 212.0]\n"
          ]
        }
      ]
    },
    {
      "cell_type": "markdown",
      "source": [
        "10. Create a Python program that uses `filter()` to remove all the vowels from a given string."
      ],
      "metadata": {
        "id": "FVjmsB6HOF2q"
      }
    },
    {
      "cell_type": "code",
      "source": [
        "def remove_vowels(input_string):\n",
        "    vowels = \"aeiouAEIOU\"\n",
        "    return ''.join(filter(lambda x: x not in vowels, input_string))\n",
        "\n",
        "input_string = \"Hello, World!\"\n",
        "result = remove_vowels(input_string)\n",
        "\n",
        "print(result)"
      ],
      "metadata": {
        "id": "fp5rllklQKJg",
        "outputId": "55c1fd0f-9406-470a-e6ae-f874840b8d5d",
        "colab": {
          "base_uri": "https://localhost:8080/"
        }
      },
      "execution_count": null,
      "outputs": [
        {
          "output_type": "stream",
          "name": "stdout",
          "text": [
            "Hll, Wrld!\n"
          ]
        }
      ]
    }
  ]
}